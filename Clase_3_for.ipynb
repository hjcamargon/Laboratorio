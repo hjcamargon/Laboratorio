{
  "nbformat": 4,
  "nbformat_minor": 0,
  "metadata": {
    "colab": {
      "provenance": [],
      "authorship_tag": "ABX9TyMjakmDNtooXkJpyn8zF5Kp",
      "include_colab_link": true
    },
    "kernelspec": {
      "name": "python3",
      "display_name": "Python 3"
    },
    "language_info": {
      "name": "python"
    }
  },
  "cells": [
    {
      "cell_type": "markdown",
      "metadata": {
        "id": "view-in-github",
        "colab_type": "text"
      },
      "source": [
        "<a href=\"https://colab.research.google.com/github/hjcamargon/Laboratorio/blob/master/Clase_3_for.ipynb\" target=\"_parent\"><img src=\"https://colab.research.google.com/assets/colab-badge.svg\" alt=\"Open In Colab\"/></a>"
      ]
    },
    {
      "cell_type": "markdown",
      "source": [
        "BUCLE FOR"
      ],
      "metadata": {
        "id": "kzaQSLYe65XS"
      }
    },
    {
      "cell_type": "code",
      "source": [
        "my_range = range(6)\n",
        "list(my_range)"
      ],
      "metadata": {
        "colab": {
          "base_uri": "https://localhost:8080/"
        },
        "id": "-O5LXlU37AQ3",
        "outputId": "4ac04014-eb28-4209-bcbb-89ea3d6a4e4b"
      },
      "execution_count": 1,
      "outputs": [
        {
          "output_type": "execute_result",
          "data": {
            "text/plain": [
              "[0, 1, 2, 3, 4, 5]"
            ]
          },
          "metadata": {},
          "execution_count": 1
        }
      ]
    },
    {
      "cell_type": "code",
      "source": [
        "numbers = [1,2,3,4,5,6]\n",
        "\n",
        "for number in numbers:    #el iterador no es necesario declararlo\n",
        "  print(number)"
      ],
      "metadata": {
        "colab": {
          "base_uri": "https://localhost:8080/"
        },
        "id": "vBo2W-TD7MSY",
        "outputId": "2e713fe3-d717-44ef-ef47-a3080fbf684b"
      },
      "execution_count": 2,
      "outputs": [
        {
          "output_type": "stream",
          "name": "stdout",
          "text": [
            "1\n",
            "2\n",
            "3\n",
            "4\n",
            "5\n",
            "6\n"
          ]
        }
      ]
    },
    {
      "cell_type": "code",
      "source": [
        "for i in range(6):\n",
        "  print(i)"
      ],
      "metadata": {
        "colab": {
          "base_uri": "https://localhost:8080/"
        },
        "id": "09Q9AAAJ8wmh",
        "outputId": "2458ba95-395d-4234-c4f8-000762cbc99a"
      },
      "execution_count": 3,
      "outputs": [
        {
          "output_type": "stream",
          "name": "stdout",
          "text": [
            "0\n",
            "1\n",
            "2\n",
            "3\n",
            "4\n",
            "5\n"
          ]
        }
      ]
    },
    {
      "cell_type": "code",
      "source": [
        "for j in range(-10,10,2):\n",
        "  print(j)\n"
      ],
      "metadata": {
        "colab": {
          "base_uri": "https://localhost:8080/"
        },
        "id": "Sx3zOFks92fz",
        "outputId": "61c3a83e-c801-4d1c-f966-5ad55864ddac"
      },
      "execution_count": 8,
      "outputs": [
        {
          "output_type": "stream",
          "name": "stdout",
          "text": [
            "-10\n",
            "-8\n",
            "-6\n",
            "-4\n",
            "-2\n",
            "0\n",
            "2\n",
            "4\n",
            "6\n",
            "8\n"
          ]
        }
      ]
    },
    {
      "cell_type": "code",
      "source": [
        "lista = []\n",
        "\n",
        "for i in range(10):\n",
        "  lista.append(i)\n",
        "  print(lista)\n",
        "print(lista) #imprimir fuera del bucle"
      ],
      "metadata": {
        "colab": {
          "base_uri": "https://localhost:8080/"
        },
        "id": "LLtH2UsP-TIx",
        "outputId": "78f7b2c9-10a7-42ce-fec9-a2e2825aa9cf"
      },
      "execution_count": 15,
      "outputs": [
        {
          "output_type": "stream",
          "name": "stdout",
          "text": [
            "[0]\n",
            "[0, 1]\n",
            "[0, 1, 2]\n",
            "[0, 1, 2, 3]\n",
            "[0, 1, 2, 3, 4]\n",
            "[0, 1, 2, 3, 4, 5]\n",
            "[0, 1, 2, 3, 4, 5, 6]\n",
            "[0, 1, 2, 3, 4, 5, 6, 7]\n",
            "[0, 1, 2, 3, 4, 5, 6, 7, 8]\n",
            "[0, 1, 2, 3, 4, 5, 6, 7, 8, 9]\n",
            "[0, 1, 2, 3, 4, 5, 6, 7, 8, 9]\n"
          ]
        }
      ]
    },
    {
      "cell_type": "code",
      "source": [
        "count = 0\n",
        "pets = ['cat','dog','fish']\n",
        "\n",
        "for pet in pets:\n",
        "  print(pet)\n",
        "  count += 1  #es la forma de abreviar count = count + 1\n",
        "print(count)"
      ],
      "metadata": {
        "colab": {
          "base_uri": "https://localhost:8080/"
        },
        "id": "fNo5qaLp_LTa",
        "outputId": "6363cadc-ce79-4dd4-c25c-b85f33e35a44"
      },
      "execution_count": 19,
      "outputs": [
        {
          "output_type": "stream",
          "name": "stdout",
          "text": [
            "cat\n",
            "dog\n",
            "fish\n",
            "3\n"
          ]
        }
      ]
    },
    {
      "cell_type": "code",
      "source": [
        "surnames = ['Cortes','Camargo','Torres','Beltran']\n",
        "\n",
        "for position in range(len(surnames)):\n",
        "  print(surnames[position])"
      ],
      "metadata": {
        "colab": {
          "base_uri": "https://localhost:8080/"
        },
        "id": "hqWbwTbXAR3C",
        "outputId": "84646037-39ee-4bb8-d2c9-7c2a5fea481c"
      },
      "execution_count": 20,
      "outputs": [
        {
          "output_type": "stream",
          "name": "stdout",
          "text": [
            "Cortes\n",
            "Camargo\n",
            "Torres\n",
            "Beltran\n"
          ]
        }
      ]
    },
    {
      "cell_type": "code",
      "source": [
        "surnames = ['Cortes','Camargo','Torres','Beltran']\n",
        "\n",
        "for position,surname in enumerate(surnames):\n",
        "  print(position,surname)"
      ],
      "metadata": {
        "colab": {
          "base_uri": "https://localhost:8080/"
        },
        "id": "c-TgL96BBL5K",
        "outputId": "31b07089-775e-4167-b479-0eaa9e070a37"
      },
      "execution_count": 21,
      "outputs": [
        {
          "output_type": "stream",
          "name": "stdout",
          "text": [
            "0 Cortes\n",
            "1 Camargo\n",
            "2 Torres\n",
            "3 Beltran\n"
          ]
        }
      ]
    },
    {
      "cell_type": "code",
      "source": [
        "surnames = ['Cortes','Camargo','Torres','Beltran']\n",
        "\n",
        "for position,surname in enumerate(surnames, start=1):  #enumerate es una función\n",
        "  print(position,surname)"
      ],
      "metadata": {
        "colab": {
          "base_uri": "https://localhost:8080/"
        },
        "id": "z-WEdvvNBtci",
        "outputId": "fb770311-eea1-4682-db03-ff3de73acb51"
      },
      "execution_count": 22,
      "outputs": [
        {
          "output_type": "stream",
          "name": "stdout",
          "text": [
            "1 Cortes\n",
            "2 Camargo\n",
            "3 Torres\n",
            "4 Beltran\n"
          ]
        }
      ]
    }
  ]
}